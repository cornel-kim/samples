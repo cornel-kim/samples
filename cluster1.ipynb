{
  "nbformat": 4,
  "nbformat_minor": 0,
  "metadata": {
    "colab": {
      "name": "Untitled1.ipynb",
      "provenance": [],
      "include_colab_link": true
    },
    "kernelspec": {
      "name": "python3",
      "display_name": "Python 3"
    }
  },
  "cells": [
    {
      "cell_type": "markdown",
      "metadata": {
        "id": "view-in-github",
        "colab_type": "text"
      },
      "source": [
        "<a href=\"https://colab.research.google.com/github/cornel-kim/samples/blob/DataScienceColab/cluster1.ipynb\" target=\"_parent\"><img src=\"https://colab.research.google.com/assets/colab-badge.svg\" alt=\"Open In Colab\"/></a>"
      ]
    },
    {
      "cell_type": "code",
      "metadata": {
        "colab": {
          "base_uri": "https://localhost:8080/",
          "height": 419
        },
        "id": "wmSMzg3M07PR",
        "outputId": "ada229e8-aa52-4c21-a72e-9bfc13e20a5b"
      },
      "source": [
        "import pandas as pd\r\n",
        "airline = pd.read_csv(\"https://modkenya.com/datascience/datasets/AirlinesCluster.csv\")\r\n",
        "airline\r\n"
      ],
      "execution_count": 1,
      "outputs": [
        {
          "output_type": "execute_result",
          "data": {
            "text/html": [
              "<div>\n",
              "<style scoped>\n",
              "    .dataframe tbody tr th:only-of-type {\n",
              "        vertical-align: middle;\n",
              "    }\n",
              "\n",
              "    .dataframe tbody tr th {\n",
              "        vertical-align: top;\n",
              "    }\n",
              "\n",
              "    .dataframe thead th {\n",
              "        text-align: right;\n",
              "    }\n",
              "</style>\n",
              "<table border=\"1\" class=\"dataframe\">\n",
              "  <thead>\n",
              "    <tr style=\"text-align: right;\">\n",
              "      <th></th>\n",
              "      <th>Balance</th>\n",
              "      <th>QualMiles</th>\n",
              "      <th>BonusMiles</th>\n",
              "      <th>BonusTrans</th>\n",
              "      <th>FlightMiles</th>\n",
              "      <th>FlightTrans</th>\n",
              "      <th>DaysSinceEnroll</th>\n",
              "    </tr>\n",
              "  </thead>\n",
              "  <tbody>\n",
              "    <tr>\n",
              "      <th>0</th>\n",
              "      <td>28143</td>\n",
              "      <td>0</td>\n",
              "      <td>174</td>\n",
              "      <td>1</td>\n",
              "      <td>0</td>\n",
              "      <td>0</td>\n",
              "      <td>7000</td>\n",
              "    </tr>\n",
              "    <tr>\n",
              "      <th>1</th>\n",
              "      <td>19244</td>\n",
              "      <td>0</td>\n",
              "      <td>215</td>\n",
              "      <td>2</td>\n",
              "      <td>0</td>\n",
              "      <td>0</td>\n",
              "      <td>6968</td>\n",
              "    </tr>\n",
              "    <tr>\n",
              "      <th>2</th>\n",
              "      <td>41354</td>\n",
              "      <td>0</td>\n",
              "      <td>4123</td>\n",
              "      <td>4</td>\n",
              "      <td>0</td>\n",
              "      <td>0</td>\n",
              "      <td>7034</td>\n",
              "    </tr>\n",
              "    <tr>\n",
              "      <th>3</th>\n",
              "      <td>14776</td>\n",
              "      <td>0</td>\n",
              "      <td>500</td>\n",
              "      <td>1</td>\n",
              "      <td>0</td>\n",
              "      <td>0</td>\n",
              "      <td>6952</td>\n",
              "    </tr>\n",
              "    <tr>\n",
              "      <th>4</th>\n",
              "      <td>97752</td>\n",
              "      <td>0</td>\n",
              "      <td>43300</td>\n",
              "      <td>26</td>\n",
              "      <td>2077</td>\n",
              "      <td>4</td>\n",
              "      <td>6935</td>\n",
              "    </tr>\n",
              "    <tr>\n",
              "      <th>...</th>\n",
              "      <td>...</td>\n",
              "      <td>...</td>\n",
              "      <td>...</td>\n",
              "      <td>...</td>\n",
              "      <td>...</td>\n",
              "      <td>...</td>\n",
              "      <td>...</td>\n",
              "    </tr>\n",
              "    <tr>\n",
              "      <th>3994</th>\n",
              "      <td>18476</td>\n",
              "      <td>0</td>\n",
              "      <td>8525</td>\n",
              "      <td>4</td>\n",
              "      <td>200</td>\n",
              "      <td>1</td>\n",
              "      <td>1403</td>\n",
              "    </tr>\n",
              "    <tr>\n",
              "      <th>3995</th>\n",
              "      <td>64385</td>\n",
              "      <td>0</td>\n",
              "      <td>981</td>\n",
              "      <td>5</td>\n",
              "      <td>0</td>\n",
              "      <td>0</td>\n",
              "      <td>1395</td>\n",
              "    </tr>\n",
              "    <tr>\n",
              "      <th>3996</th>\n",
              "      <td>73597</td>\n",
              "      <td>0</td>\n",
              "      <td>25447</td>\n",
              "      <td>8</td>\n",
              "      <td>0</td>\n",
              "      <td>0</td>\n",
              "      <td>1402</td>\n",
              "    </tr>\n",
              "    <tr>\n",
              "      <th>3997</th>\n",
              "      <td>54899</td>\n",
              "      <td>0</td>\n",
              "      <td>500</td>\n",
              "      <td>1</td>\n",
              "      <td>500</td>\n",
              "      <td>1</td>\n",
              "      <td>1401</td>\n",
              "    </tr>\n",
              "    <tr>\n",
              "      <th>3998</th>\n",
              "      <td>3016</td>\n",
              "      <td>0</td>\n",
              "      <td>0</td>\n",
              "      <td>0</td>\n",
              "      <td>0</td>\n",
              "      <td>0</td>\n",
              "      <td>1398</td>\n",
              "    </tr>\n",
              "  </tbody>\n",
              "</table>\n",
              "<p>3999 rows × 7 columns</p>\n",
              "</div>"
            ],
            "text/plain": [
              "      Balance  QualMiles  BonusMiles  ...  FlightMiles  FlightTrans  DaysSinceEnroll\n",
              "0       28143          0         174  ...            0            0             7000\n",
              "1       19244          0         215  ...            0            0             6968\n",
              "2       41354          0        4123  ...            0            0             7034\n",
              "3       14776          0         500  ...            0            0             6952\n",
              "4       97752          0       43300  ...         2077            4             6935\n",
              "...       ...        ...         ...  ...          ...          ...              ...\n",
              "3994    18476          0        8525  ...          200            1             1403\n",
              "3995    64385          0         981  ...            0            0             1395\n",
              "3996    73597          0       25447  ...            0            0             1402\n",
              "3997    54899          0         500  ...          500            1             1401\n",
              "3998     3016          0           0  ...            0            0             1398\n",
              "\n",
              "[3999 rows x 7 columns]"
            ]
          },
          "metadata": {
            "tags": []
          },
          "execution_count": 1
        }
      ]
    },
    {
      "cell_type": "code",
      "metadata": {
        "id": "g-x7AmGD2WPc",
        "colab": {
          "base_uri": "https://localhost:8080/"
        },
        "outputId": "02407b56-067f-4c79-81a2-26c56c39f6a2"
      },
      "source": [
        "#check for nulls. Machine learning cant work with null fields\r\n",
        "print(airline.isnull().sum())"
      ],
      "execution_count": null,
      "outputs": [
        {
          "output_type": "stream",
          "text": [
            "Balance            0\n",
            "QualMiles          0\n",
            "BonusMiles         0\n",
            "BonusTrans         0\n",
            "FlightMiles        0\n",
            "FlightTrans        0\n",
            "DaysSinceEnroll    0\n",
            "dtype: int64\n"
          ],
          "name": "stdout"
        }
      ]
    },
    {
      "cell_type": "code",
      "metadata": {
        "id": "TbcZYUGc26sD",
        "colab": {
          "base_uri": "https://localhost:8080/",
          "height": 297
        },
        "outputId": "721c48d8-b04d-4858-8787-f0d578d117b4"
      },
      "source": [
        "airline.describe()"
      ],
      "execution_count": 2,
      "outputs": [
        {
          "output_type": "execute_result",
          "data": {
            "text/html": [
              "<div>\n",
              "<style scoped>\n",
              "    .dataframe tbody tr th:only-of-type {\n",
              "        vertical-align: middle;\n",
              "    }\n",
              "\n",
              "    .dataframe tbody tr th {\n",
              "        vertical-align: top;\n",
              "    }\n",
              "\n",
              "    .dataframe thead th {\n",
              "        text-align: right;\n",
              "    }\n",
              "</style>\n",
              "<table border=\"1\" class=\"dataframe\">\n",
              "  <thead>\n",
              "    <tr style=\"text-align: right;\">\n",
              "      <th></th>\n",
              "      <th>Balance</th>\n",
              "      <th>QualMiles</th>\n",
              "      <th>BonusMiles</th>\n",
              "      <th>BonusTrans</th>\n",
              "      <th>FlightMiles</th>\n",
              "      <th>FlightTrans</th>\n",
              "      <th>DaysSinceEnroll</th>\n",
              "    </tr>\n",
              "  </thead>\n",
              "  <tbody>\n",
              "    <tr>\n",
              "      <th>count</th>\n",
              "      <td>3.999000e+03</td>\n",
              "      <td>3999.000000</td>\n",
              "      <td>3999.000000</td>\n",
              "      <td>3999.00000</td>\n",
              "      <td>3999.000000</td>\n",
              "      <td>3999.000000</td>\n",
              "      <td>3999.00000</td>\n",
              "    </tr>\n",
              "    <tr>\n",
              "      <th>mean</th>\n",
              "      <td>7.360133e+04</td>\n",
              "      <td>144.114529</td>\n",
              "      <td>17144.846212</td>\n",
              "      <td>11.60190</td>\n",
              "      <td>460.055764</td>\n",
              "      <td>1.373593</td>\n",
              "      <td>4118.55939</td>\n",
              "    </tr>\n",
              "    <tr>\n",
              "      <th>std</th>\n",
              "      <td>1.007757e+05</td>\n",
              "      <td>773.663804</td>\n",
              "      <td>24150.967826</td>\n",
              "      <td>9.60381</td>\n",
              "      <td>1400.209171</td>\n",
              "      <td>3.793172</td>\n",
              "      <td>2065.13454</td>\n",
              "    </tr>\n",
              "    <tr>\n",
              "      <th>min</th>\n",
              "      <td>0.000000e+00</td>\n",
              "      <td>0.000000</td>\n",
              "      <td>0.000000</td>\n",
              "      <td>0.00000</td>\n",
              "      <td>0.000000</td>\n",
              "      <td>0.000000</td>\n",
              "      <td>2.00000</td>\n",
              "    </tr>\n",
              "    <tr>\n",
              "      <th>25%</th>\n",
              "      <td>1.852750e+04</td>\n",
              "      <td>0.000000</td>\n",
              "      <td>1250.000000</td>\n",
              "      <td>3.00000</td>\n",
              "      <td>0.000000</td>\n",
              "      <td>0.000000</td>\n",
              "      <td>2330.00000</td>\n",
              "    </tr>\n",
              "    <tr>\n",
              "      <th>50%</th>\n",
              "      <td>4.309700e+04</td>\n",
              "      <td>0.000000</td>\n",
              "      <td>7171.000000</td>\n",
              "      <td>12.00000</td>\n",
              "      <td>0.000000</td>\n",
              "      <td>0.000000</td>\n",
              "      <td>4096.00000</td>\n",
              "    </tr>\n",
              "    <tr>\n",
              "      <th>75%</th>\n",
              "      <td>9.240400e+04</td>\n",
              "      <td>0.000000</td>\n",
              "      <td>23800.500000</td>\n",
              "      <td>17.00000</td>\n",
              "      <td>311.000000</td>\n",
              "      <td>1.000000</td>\n",
              "      <td>5790.50000</td>\n",
              "    </tr>\n",
              "    <tr>\n",
              "      <th>max</th>\n",
              "      <td>1.704838e+06</td>\n",
              "      <td>11148.000000</td>\n",
              "      <td>263685.000000</td>\n",
              "      <td>86.00000</td>\n",
              "      <td>30817.000000</td>\n",
              "      <td>53.000000</td>\n",
              "      <td>8296.00000</td>\n",
              "    </tr>\n",
              "  </tbody>\n",
              "</table>\n",
              "</div>"
            ],
            "text/plain": [
              "            Balance     QualMiles  ...  FlightTrans  DaysSinceEnroll\n",
              "count  3.999000e+03   3999.000000  ...  3999.000000       3999.00000\n",
              "mean   7.360133e+04    144.114529  ...     1.373593       4118.55939\n",
              "std    1.007757e+05    773.663804  ...     3.793172       2065.13454\n",
              "min    0.000000e+00      0.000000  ...     0.000000          2.00000\n",
              "25%    1.852750e+04      0.000000  ...     0.000000       2330.00000\n",
              "50%    4.309700e+04      0.000000  ...     0.000000       4096.00000\n",
              "75%    9.240400e+04      0.000000  ...     1.000000       5790.50000\n",
              "max    1.704838e+06  11148.000000  ...    53.000000       8296.00000\n",
              "\n",
              "[8 rows x 7 columns]"
            ]
          },
          "metadata": {
            "tags": []
          },
          "execution_count": 2
        }
      ]
    },
    {
      "cell_type": "code",
      "metadata": {
        "id": "PgraldgH3CMO",
        "colab": {
          "base_uri": "https://localhost:8080/",
          "height": 266
        },
        "outputId": "40ea0045-a7f4-45d2-9259-76b6c04ddc8f"
      },
      "source": [
        "airline.corr()"
      ],
      "execution_count": 7,
      "outputs": [
        {
          "output_type": "execute_result",
          "data": {
            "text/html": [
              "<div>\n",
              "<style scoped>\n",
              "    .dataframe tbody tr th:only-of-type {\n",
              "        vertical-align: middle;\n",
              "    }\n",
              "\n",
              "    .dataframe tbody tr th {\n",
              "        vertical-align: top;\n",
              "    }\n",
              "\n",
              "    .dataframe thead th {\n",
              "        text-align: right;\n",
              "    }\n",
              "</style>\n",
              "<table border=\"1\" class=\"dataframe\">\n",
              "  <thead>\n",
              "    <tr style=\"text-align: right;\">\n",
              "      <th></th>\n",
              "      <th>Balance</th>\n",
              "      <th>QualMiles</th>\n",
              "      <th>BonusMiles</th>\n",
              "      <th>BonusTrans</th>\n",
              "      <th>FlightMiles</th>\n",
              "      <th>FlightTrans</th>\n",
              "      <th>DaysSinceEnroll</th>\n",
              "    </tr>\n",
              "  </thead>\n",
              "  <tbody>\n",
              "    <tr>\n",
              "      <th>Balance</th>\n",
              "      <td>1.000000</td>\n",
              "      <td>0.108722</td>\n",
              "      <td>0.403487</td>\n",
              "      <td>0.324935</td>\n",
              "      <td>0.217551</td>\n",
              "      <td>0.255700</td>\n",
              "      <td>0.263129</td>\n",
              "    </tr>\n",
              "    <tr>\n",
              "      <th>QualMiles</th>\n",
              "      <td>0.108722</td>\n",
              "      <td>1.000000</td>\n",
              "      <td>0.031021</td>\n",
              "      <td>0.050725</td>\n",
              "      <td>0.126774</td>\n",
              "      <td>0.144004</td>\n",
              "      <td>0.017312</td>\n",
              "    </tr>\n",
              "    <tr>\n",
              "      <th>BonusMiles</th>\n",
              "      <td>0.403487</td>\n",
              "      <td>0.031021</td>\n",
              "      <td>1.000000</td>\n",
              "      <td>0.603180</td>\n",
              "      <td>0.183536</td>\n",
              "      <td>0.185261</td>\n",
              "      <td>0.210397</td>\n",
              "    </tr>\n",
              "    <tr>\n",
              "      <th>BonusTrans</th>\n",
              "      <td>0.324935</td>\n",
              "      <td>0.050725</td>\n",
              "      <td>0.603180</td>\n",
              "      <td>1.000000</td>\n",
              "      <td>0.377216</td>\n",
              "      <td>0.432364</td>\n",
              "      <td>0.161262</td>\n",
              "    </tr>\n",
              "    <tr>\n",
              "      <th>FlightMiles</th>\n",
              "      <td>0.217551</td>\n",
              "      <td>0.126774</td>\n",
              "      <td>0.183536</td>\n",
              "      <td>0.377216</td>\n",
              "      <td>1.000000</td>\n",
              "      <td>0.869193</td>\n",
              "      <td>0.037271</td>\n",
              "    </tr>\n",
              "    <tr>\n",
              "      <th>FlightTrans</th>\n",
              "      <td>0.255700</td>\n",
              "      <td>0.144004</td>\n",
              "      <td>0.185261</td>\n",
              "      <td>0.432364</td>\n",
              "      <td>0.869193</td>\n",
              "      <td>1.000000</td>\n",
              "      <td>0.059260</td>\n",
              "    </tr>\n",
              "    <tr>\n",
              "      <th>DaysSinceEnroll</th>\n",
              "      <td>0.263129</td>\n",
              "      <td>0.017312</td>\n",
              "      <td>0.210397</td>\n",
              "      <td>0.161262</td>\n",
              "      <td>0.037271</td>\n",
              "      <td>0.059260</td>\n",
              "      <td>1.000000</td>\n",
              "    </tr>\n",
              "  </tbody>\n",
              "</table>\n",
              "</div>"
            ],
            "text/plain": [
              "                  Balance  QualMiles  ...  FlightTrans  DaysSinceEnroll\n",
              "Balance          1.000000   0.108722  ...     0.255700         0.263129\n",
              "QualMiles        0.108722   1.000000  ...     0.144004         0.017312\n",
              "BonusMiles       0.403487   0.031021  ...     0.185261         0.210397\n",
              "BonusTrans       0.324935   0.050725  ...     0.432364         0.161262\n",
              "FlightMiles      0.217551   0.126774  ...     0.869193         0.037271\n",
              "FlightTrans      0.255700   0.144004  ...     1.000000         0.059260\n",
              "DaysSinceEnroll  0.263129   0.017312  ...     0.059260         1.000000\n",
              "\n",
              "[7 rows x 7 columns]"
            ]
          },
          "metadata": {
            "tags": []
          },
          "execution_count": 7
        }
      ]
    },
    {
      "cell_type": "code",
      "metadata": {
        "id": "A6_Wjkuk3uJ0",
        "colab": {
          "base_uri": "https://localhost:8080/"
        },
        "outputId": "5cdb51f6-a44d-4629-e63e-d3e0e83387e0"
      },
      "source": [
        "#get a subset of data-count as 0, 1 and 2, i.e fightmile index 0\r\n",
        "subset = airline[['FlightMiles', 'FlightTrans','DaysSinceEnroll']]\r\n",
        "#convert subset to an array-list for slicing puposes to a multi-dimensional list\r\n",
        "array = subset.values\r\n",
        "\r\n",
        "array"
      ],
      "execution_count": 8,
      "outputs": [
        {
          "output_type": "execute_result",
          "data": {
            "text/plain": [
              "array([[   0,    0, 7000],\n",
              "       [   0,    0, 6968],\n",
              "       [   0,    0, 7034],\n",
              "       ...,\n",
              "       [   0,    0, 1402],\n",
              "       [ 500,    1, 1401],\n",
              "       [   0,    0, 1398]])"
            ]
          },
          "metadata": {
            "tags": []
          },
          "execution_count": 8
        }
      ]
    },
    {
      "cell_type": "code",
      "metadata": {
        "id": "3fqlX8RK6IIc",
        "colab": {
          "base_uri": "https://localhost:8080/"
        },
        "outputId": "1f194e4f-9ddd-4ad6-d927-2a726a51cfe9"
      },
      "source": [
        "#from the array pick values. Column names dissapear\r\n",
        "#take the data to a model. Get and push to the model for clustering from the array\r\n",
        "#the array allows for splitting and slicing\r\n",
        "#:-means all rows,inbetween 20:400, \r\n",
        "#colums 0:3, always factor -1 in columns\r\n",
        "#only define axis for supervised model\r\n",
        "x = array[:,0:3]#decide the rows you want to work with from the 4000 given\r\n",
        "#import model-klearn-circuit leanr\r\n",
        "from sklearn.cluster import KMeans#has regression, cluster etc. KMeans is a model\r\n",
        "model = KMeans(n_clusters=5, random_state=42)#pass parameters, n-clusters, randomize cluster to around of 42-lucky number\r\n",
        "#model knows cluster by automatically setting mean or mean by default to come up with bits\r\n",
        "#randomize using cross validation\r\n",
        "model.fit(x)#fit data in x"
      ],
      "execution_count": 9,
      "outputs": [
        {
          "output_type": "execute_result",
          "data": {
            "text/plain": [
              "KMeans(algorithm='auto', copy_x=True, init='k-means++', max_iter=300,\n",
              "       n_clusters=5, n_init=10, n_jobs=None, precompute_distances='auto',\n",
              "       random_state=42, tol=0.0001, verbose=0)"
            ]
          },
          "metadata": {
            "tags": []
          },
          "execution_count": 9
        }
      ]
    },
    {
      "cell_type": "code",
      "metadata": {
        "id": "RnP6yIyZR9bq",
        "colab": {
          "base_uri": "https://localhost:8080/",
          "height": 204
        },
        "outputId": "1f8ae2bd-6952-4924-cf6f-8fa5ef92c94d"
      },
      "source": [
        "#check the clusters-once created you can check the content created by kmeans\r\n",
        "#fits everybody but not fix data using a mean or median\r\n",
        "means = model.cluster_centers_#means for the 5 clusters from the model for each\r\n",
        "#convert the array back to dataframe to avoid array being displayed\r\n",
        "import pandas\r\n",
        "clusters = pandas.DataFrame(means, columns=[ 'FlightMiles', 'FlightTrans','DaysSinceEnroll'])\r\n",
        "clusters\r\n",
        "\r\n"
      ],
      "execution_count": 10,
      "outputs": [
        {
          "output_type": "execute_result",
          "data": {
            "text/html": [
              "<div>\n",
              "<style scoped>\n",
              "    .dataframe tbody tr th:only-of-type {\n",
              "        vertical-align: middle;\n",
              "    }\n",
              "\n",
              "    .dataframe tbody tr th {\n",
              "        vertical-align: top;\n",
              "    }\n",
              "\n",
              "    .dataframe thead th {\n",
              "        text-align: right;\n",
              "    }\n",
              "</style>\n",
              "<table border=\"1\" class=\"dataframe\">\n",
              "  <thead>\n",
              "    <tr style=\"text-align: right;\">\n",
              "      <th></th>\n",
              "      <th>FlightMiles</th>\n",
              "      <th>FlightTrans</th>\n",
              "      <th>DaysSinceEnroll</th>\n",
              "    </tr>\n",
              "  </thead>\n",
              "  <tbody>\n",
              "    <tr>\n",
              "      <th>0</th>\n",
              "      <td>190.722344</td>\n",
              "      <td>0.674725</td>\n",
              "      <td>1849.986081</td>\n",
              "    </tr>\n",
              "    <tr>\n",
              "      <th>1</th>\n",
              "      <td>283.034296</td>\n",
              "      <td>0.990072</td>\n",
              "      <td>6677.178700</td>\n",
              "    </tr>\n",
              "    <tr>\n",
              "      <th>2</th>\n",
              "      <td>12455.304348</td>\n",
              "      <td>25.478261</td>\n",
              "      <td>3678.956522</td>\n",
              "    </tr>\n",
              "    <tr>\n",
              "      <th>3</th>\n",
              "      <td>190.777444</td>\n",
              "      <td>0.672932</td>\n",
              "      <td>4274.933835</td>\n",
              "    </tr>\n",
              "    <tr>\n",
              "      <th>4</th>\n",
              "      <td>4194.329480</td>\n",
              "      <td>11.526012</td>\n",
              "      <td>4487.260116</td>\n",
              "    </tr>\n",
              "  </tbody>\n",
              "</table>\n",
              "</div>"
            ],
            "text/plain": [
              "    FlightMiles  FlightTrans  DaysSinceEnroll\n",
              "0    190.722344     0.674725      1849.986081\n",
              "1    283.034296     0.990072      6677.178700\n",
              "2  12455.304348    25.478261      3678.956522\n",
              "3    190.777444     0.672932      4274.933835\n",
              "4   4194.329480    11.526012      4487.260116"
            ]
          },
          "metadata": {
            "tags": []
          },
          "execution_count": 10
        }
      ]
    },
    {
      "cell_type": "code",
      "metadata": {
        "id": "zrRkLFTUQwbm",
        "outputId": "de9bbd5e-5a41-46c5-8045-0b10cd7b61c2",
        "colab": {
          "base_uri": "https://localhost:8080/",
          "height": 419
        }
      },
      "source": [
        "# Mall Customers\r\n",
        "# clustering airlines members\r\n",
        "import pandas\r\n",
        "customers = pandas.read_csv(\"https://modkenya.com/datascience/datasets/Mall_Customers.csv\")\r\n",
        "customers"
      ],
      "execution_count": 11,
      "outputs": [
        {
          "output_type": "execute_result",
          "data": {
            "text/html": [
              "<div>\n",
              "<style scoped>\n",
              "    .dataframe tbody tr th:only-of-type {\n",
              "        vertical-align: middle;\n",
              "    }\n",
              "\n",
              "    .dataframe tbody tr th {\n",
              "        vertical-align: top;\n",
              "    }\n",
              "\n",
              "    .dataframe thead th {\n",
              "        text-align: right;\n",
              "    }\n",
              "</style>\n",
              "<table border=\"1\" class=\"dataframe\">\n",
              "  <thead>\n",
              "    <tr style=\"text-align: right;\">\n",
              "      <th></th>\n",
              "      <th>CustomerID</th>\n",
              "      <th>Gender</th>\n",
              "      <th>Age</th>\n",
              "      <th>Annual Income</th>\n",
              "      <th>Spending Score</th>\n",
              "    </tr>\n",
              "  </thead>\n",
              "  <tbody>\n",
              "    <tr>\n",
              "      <th>0</th>\n",
              "      <td>1</td>\n",
              "      <td>Male</td>\n",
              "      <td>19</td>\n",
              "      <td>15</td>\n",
              "      <td>39</td>\n",
              "    </tr>\n",
              "    <tr>\n",
              "      <th>1</th>\n",
              "      <td>2</td>\n",
              "      <td>Male</td>\n",
              "      <td>21</td>\n",
              "      <td>15</td>\n",
              "      <td>81</td>\n",
              "    </tr>\n",
              "    <tr>\n",
              "      <th>2</th>\n",
              "      <td>3</td>\n",
              "      <td>Female</td>\n",
              "      <td>20</td>\n",
              "      <td>16</td>\n",
              "      <td>6</td>\n",
              "    </tr>\n",
              "    <tr>\n",
              "      <th>3</th>\n",
              "      <td>4</td>\n",
              "      <td>Female</td>\n",
              "      <td>23</td>\n",
              "      <td>16</td>\n",
              "      <td>77</td>\n",
              "    </tr>\n",
              "    <tr>\n",
              "      <th>4</th>\n",
              "      <td>5</td>\n",
              "      <td>Female</td>\n",
              "      <td>31</td>\n",
              "      <td>17</td>\n",
              "      <td>40</td>\n",
              "    </tr>\n",
              "    <tr>\n",
              "      <th>...</th>\n",
              "      <td>...</td>\n",
              "      <td>...</td>\n",
              "      <td>...</td>\n",
              "      <td>...</td>\n",
              "      <td>...</td>\n",
              "    </tr>\n",
              "    <tr>\n",
              "      <th>195</th>\n",
              "      <td>196</td>\n",
              "      <td>Female</td>\n",
              "      <td>35</td>\n",
              "      <td>120</td>\n",
              "      <td>79</td>\n",
              "    </tr>\n",
              "    <tr>\n",
              "      <th>196</th>\n",
              "      <td>197</td>\n",
              "      <td>Female</td>\n",
              "      <td>45</td>\n",
              "      <td>126</td>\n",
              "      <td>28</td>\n",
              "    </tr>\n",
              "    <tr>\n",
              "      <th>197</th>\n",
              "      <td>198</td>\n",
              "      <td>Male</td>\n",
              "      <td>32</td>\n",
              "      <td>126</td>\n",
              "      <td>74</td>\n",
              "    </tr>\n",
              "    <tr>\n",
              "      <th>198</th>\n",
              "      <td>199</td>\n",
              "      <td>Male</td>\n",
              "      <td>32</td>\n",
              "      <td>137</td>\n",
              "      <td>18</td>\n",
              "    </tr>\n",
              "    <tr>\n",
              "      <th>199</th>\n",
              "      <td>200</td>\n",
              "      <td>Male</td>\n",
              "      <td>30</td>\n",
              "      <td>137</td>\n",
              "      <td>83</td>\n",
              "    </tr>\n",
              "  </tbody>\n",
              "</table>\n",
              "<p>200 rows × 5 columns</p>\n",
              "</div>"
            ],
            "text/plain": [
              "     CustomerID  Gender  Age  Annual Income  Spending Score\n",
              "0             1    Male   19             15              39\n",
              "1             2    Male   21             15              81\n",
              "2             3  Female   20             16               6\n",
              "3             4  Female   23             16              77\n",
              "4             5  Female   31             17              40\n",
              "..          ...     ...  ...            ...             ...\n",
              "195         196  Female   35            120              79\n",
              "196         197  Female   45            126              28\n",
              "197         198    Male   32            126              74\n",
              "198         199    Male   32            137              18\n",
              "199         200    Male   30            137              83\n",
              "\n",
              "[200 rows x 5 columns]"
            ]
          },
          "metadata": {
            "tags": []
          },
          "execution_count": 11
        }
      ]
    },
    {
      "cell_type": "code",
      "metadata": {
        "id": "Am8IDH9CQ3o8",
        "outputId": "6ea0325a-7cd0-45d6-d2f9-1a545aba3697",
        "colab": {
          "base_uri": "https://localhost:8080/",
          "height": 512
        }
      },
      "source": [
        "array = customers.values\r\n",
        "\r\n",
        "X = array[:, 2:5]\r\n",
        "\r\n",
        "# inertia...\r\n",
        "import matplotlib.pyplot as plt\r\n",
        "plt.style.use('seaborn')\r\n",
        "plt.figure(figsize=(10, 8))\r\n",
        "from sklearn.cluster import KMeans\r\n",
        "wcss = []\r\n",
        "for i in range(1, 10):\r\n",
        "     kmeans = KMeans(n_clusters = i, init = 'k-means++', random_state = 42)\r\n",
        "     kmeans.fit(X)\r\n",
        "     wcss.append(kmeans.inertia_)\r\n",
        "plt.plot(range(1, 10), wcss)\r\n",
        "plt.title('The Elbow Method')\r\n",
        "plt.xlabel('Number of clusters')\r\n",
        "plt.ylabel('WCSS')\r\n",
        "plt.show()"
      ],
      "execution_count": 12,
      "outputs": [
        {
          "output_type": "display_data",
          "data": {
            "image/png": "[encoded data removed]",
            "text/plain": [
              "<Figure size 720x576 with 1 Axes>"
            ]
          },
          "metadata": {
            "tags": []
          }
        }
      ]
    },
    {
      "cell_type": "code",
      "metadata": {
        "id": "8N0rgIygQ--7",
        "outputId": "1c718543-52cc-4c66-c1b9-74205712a62f",
        "colab": {
          "base_uri": "https://localhost:8080/",
          "height": 204
        }
      },
      "source": [
        "from sklearn.cluster import KMeans\r\n",
        "model = KMeans(n_clusters=5, random_state=42)\r\n",
        "model.fit(X)\r\n",
        "\r\n",
        "#  Where are the clusters?\r\n",
        "#  the model to give us its means for cluster - centronoids\r\n",
        "means = model.cluster_centers_\r\n",
        "\r\n",
        "# convert above means back dataframe\r\n",
        "clusters = pandas.DataFrame(means, columns=['Age','Annual Income','Spending Score'])\r\n",
        "clusters"
      ],
      "execution_count": 13,
      "outputs": [
        {
          "output_type": "execute_result",
          "data": {
            "text/html": [
              "<div>\n",
              "<style scoped>\n",
              "    .dataframe tbody tr th:only-of-type {\n",
              "        vertical-align: middle;\n",
              "    }\n",
              "\n",
              "    .dataframe tbody tr th {\n",
              "        vertical-align: top;\n",
              "    }\n",
              "\n",
              "    .dataframe thead th {\n",
              "        text-align: right;\n",
              "    }\n",
              "</style>\n",
              "<table border=\"1\" class=\"dataframe\">\n",
              "  <thead>\n",
              "    <tr style=\"text-align: right;\">\n",
              "      <th></th>\n",
              "      <th>Age</th>\n",
              "      <th>Annual Income</th>\n",
              "      <th>Spending Score</th>\n",
              "    </tr>\n",
              "  </thead>\n",
              "  <tbody>\n",
              "    <tr>\n",
              "      <th>0</th>\n",
              "      <td>40.666667</td>\n",
              "      <td>87.750000</td>\n",
              "      <td>17.583333</td>\n",
              "    </tr>\n",
              "    <tr>\n",
              "      <th>1</th>\n",
              "      <td>43.088608</td>\n",
              "      <td>55.291139</td>\n",
              "      <td>49.569620</td>\n",
              "    </tr>\n",
              "    <tr>\n",
              "      <th>2</th>\n",
              "      <td>25.521739</td>\n",
              "      <td>26.304348</td>\n",
              "      <td>78.565217</td>\n",
              "    </tr>\n",
              "    <tr>\n",
              "      <th>3</th>\n",
              "      <td>32.692308</td>\n",
              "      <td>86.538462</td>\n",
              "      <td>82.128205</td>\n",
              "    </tr>\n",
              "    <tr>\n",
              "      <th>4</th>\n",
              "      <td>45.217391</td>\n",
              "      <td>26.304348</td>\n",
              "      <td>20.913043</td>\n",
              "    </tr>\n",
              "  </tbody>\n",
              "</table>\n",
              "</div>"
            ],
            "text/plain": [
              "         Age  Annual Income  Spending Score\n",
              "0  40.666667      87.750000       17.583333\n",
              "1  43.088608      55.291139       49.569620\n",
              "2  25.521739      26.304348       78.565217\n",
              "3  32.692308      86.538462       82.128205\n",
              "4  45.217391      26.304348       20.913043"
            ]
          },
          "metadata": {
            "tags": []
          },
          "execution_count": 13
        }
      ]
    },
    {
      "cell_type": "code",
      "metadata": {
        "id": "JEis5XT_RFiF",
        "outputId": "3bd57428-f18c-4d68-8455-e7a986cf67cf",
        "colab": {
          "base_uri": "https://localhost:8080/",
          "height": 575
        }
      },
      "source": [
        "# Show the clusters in a graph\r\n",
        "import matplotlib.pyplot as plt\r\n",
        "plt.style.use(\"seaborn\")\r\n",
        "fig = plt.figure(figsize=(20,10))\r\n",
        "ax = fig.add_subplot(111, projection = '3d')\r\n",
        "\r\n",
        "customers['label']  = model.labels_\r\n",
        "ax.scatter(customers['Age'][customers['label']==0],  customers['Annual Income'][customers['label']==0], \r\n",
        "          customers['Spending Score'][customers['label']==0], c = 'red', s = 30, label='Cluster 1')\r\n",
        "\r\n",
        "\r\n",
        "ax.scatter(customers['Age'][customers['label']==1],  customers['Annual Income'][customers['label']==1], \r\n",
        "          customers['Spending Score'][customers['label']==1], c = 'green', s = 30, label='Cluster 2')\r\n",
        "\r\n",
        "\r\n",
        "ax.scatter(customers['Age'][customers['label']==2],  customers['Annual Income'][customers['label']==2], \r\n",
        "          customers['Spending Score'][customers['label']==2], c = 'black', s = 30, label='Cluster 3')\r\n",
        "\r\n",
        "\r\n",
        "\r\n",
        "ax.scatter(customers['Age'][customers['label']==3],  customers['Annual Income'][customers['label']==3], \r\n",
        "          customers['Spending Score'][customers['label']==3], c = 'orange', s = 30, label='Cluster 4')\r\n",
        "\r\n",
        "\r\n",
        "\r\n",
        "ax.scatter(customers['Age'][customers['label']==4],  customers['Annual Income'][customers['label']==4], \r\n",
        "          customers['Spending Score'][customers['label']==4], c = 'pink', s = 30, label='Cluster 5')\r\n",
        "\r\n",
        "\r\n",
        "plt.xlabel('Age')\r\n",
        "plt.ylabel('Annual Income k($)')\r\n",
        "ax.set_zlabel('Spending Score 0-100')\r\n",
        "ax.view_init(30,185)\r\n",
        "plt.legend()\r\n",
        "plt.show()"
      ],
      "execution_count": 14,
      "outputs": [
        {
          "output_type": "display_data",
          "data": {
            "image/png": "[encoded data removed]",
            "text/plain": [
              "<Figure size 1440x720 with 1 Axes>"
            ]
          },
          "metadata": {
            "tags": []
          }
        }
      ]
    }
  ]
}