{
  "nbformat": 4,
  "nbformat_minor": 0,
  "metadata": {
    "colab": {
      "name": "Untitled",
      "provenance": [],
      "collapsed_sections": [],
      "authorship_tag": "ABX9TyOiu87hnN5EDlvHER41Tfkl",
      "include_colab_link": true
    },
    "kernelspec": {
      "name": "python3",
      "display_name": "Python 3"
    }
  },
  "cells": [
    {
      "cell_type": "markdown",
      "metadata": {
        "id": "view-in-github",
        "colab_type": "text"
      },
      "source": [
        "<a href=\"https://colab.research.google.com/github/cornel-kim/samples/blob/DataScienceColab/test.ipynb\" target=\"_parent\"><img src=\"https://colab.research.google.com/assets/colab-badge.svg\" alt=\"Open In Colab\"/></a>"
      ]
    },
    {
      "cell_type": "markdown",
      "metadata": {
        "id": "N0467z-hw5MH"
      },
      "source": [
        "working with data science colab"
      ]
    },
    {
      "cell_type": "code",
      "metadata": {
        "id": "g8q8EcIDr0X9",
        "colab": {
          "base_uri": "https://localhost:8080/"
        },
        "outputId": "c99e59bf-ea6e-4a82-9471-383773383655"
      },
      "source": [
        "import pandas as pd\r\n",
        "import matplotlib.pyplot as plt\r\n",
        "import seaborn as sbn\r\n",
        "customer = pd.read_csv(\"http://modcom.co.ke/datasets/Mall_Customers.csv\")\r\n",
        "print(customer)"
      ],
      "execution_count": 2,
      "outputs": [
        {
          "output_type": "stream",
          "text": [
            "     CustomerID  Gender  Age  Annual Income  Spending Score\n",
            "0             1    Male   19             15              39\n",
            "1             2    Male   21             15              81\n",
            "2             3  Female   20             16               6\n",
            "3             4  Female   23             16              77\n",
            "4             5  Female   31             17              40\n",
            "..          ...     ...  ...            ...             ...\n",
            "195         196  Female   35            120              79\n",
            "196         197  Female   45            126              28\n",
            "197         198    Male   32            126              74\n",
            "198         199    Male   32            137              18\n",
            "199         200    Male   30            137              83\n",
            "\n",
            "[200 rows x 5 columns]\n"
          ],
          "name": "stdout"
        }
      ]
    },
    {
      "cell_type": "code",
      "metadata": {
        "colab": {
          "base_uri": "https://localhost:8080/",
          "height": 175
        },
        "id": "2-C1eNkj2-Zx",
        "outputId": "bf23791e-f475-4623-dfd7-251de0018c1d"
      },
      "source": [
        "customer.corr()"
      ],
      "execution_count": 4,
      "outputs": [
        {
          "output_type": "execute_result",
          "data": {
            "text/html": [
              "<div>\n",
              "<style scoped>\n",
              "    .dataframe tbody tr th:only-of-type {\n",
              "        vertical-align: middle;\n",
              "    }\n",
              "\n",
              "    .dataframe tbody tr th {\n",
              "        vertical-align: top;\n",
              "    }\n",
              "\n",
              "    .dataframe thead th {\n",
              "        text-align: right;\n",
              "    }\n",
              "</style>\n",
              "<table border=\"1\" class=\"dataframe\">\n",
              "  <thead>\n",
              "    <tr style=\"text-align: right;\">\n",
              "      <th></th>\n",
              "      <th>CustomerID</th>\n",
              "      <th>Age</th>\n",
              "      <th>Annual Income</th>\n",
              "      <th>Spending Score</th>\n",
              "    </tr>\n",
              "  </thead>\n",
              "  <tbody>\n",
              "    <tr>\n",
              "      <th>CustomerID</th>\n",
              "      <td>1.000000</td>\n",
              "      <td>-0.026763</td>\n",
              "      <td>0.977548</td>\n",
              "      <td>0.013835</td>\n",
              "    </tr>\n",
              "    <tr>\n",
              "      <th>Age</th>\n",
              "      <td>-0.026763</td>\n",
              "      <td>1.000000</td>\n",
              "      <td>-0.012398</td>\n",
              "      <td>-0.327227</td>\n",
              "    </tr>\n",
              "    <tr>\n",
              "      <th>Annual Income</th>\n",
              "      <td>0.977548</td>\n",
              "      <td>-0.012398</td>\n",
              "      <td>1.000000</td>\n",
              "      <td>0.009903</td>\n",
              "    </tr>\n",
              "    <tr>\n",
              "      <th>Spending Score</th>\n",
              "      <td>0.013835</td>\n",
              "      <td>-0.327227</td>\n",
              "      <td>0.009903</td>\n",
              "      <td>1.000000</td>\n",
              "    </tr>\n",
              "  </tbody>\n",
              "</table>\n",
              "</div>"
            ],
            "text/plain": [
              "                CustomerID       Age  Annual Income  Spending Score\n",
              "CustomerID        1.000000 -0.026763       0.977548        0.013835\n",
              "Age              -0.026763  1.000000      -0.012398       -0.327227\n",
              "Annual Income     0.977548 -0.012398       1.000000        0.009903\n",
              "Spending Score    0.013835 -0.327227       0.009903        1.000000"
            ]
          },
          "metadata": {
            "tags": []
          },
          "execution_count": 4
        }
      ]
    },
    {
      "cell_type": "markdown",
      "metadata": {
        "id": "5DYmQ54JyZjE"
      },
      "source": [
        "describe data\r\n",
        "If one of the count is lower then there are empties\r\n",
        "The average spending score is 50.2 minimum is 1 and max 99\r\n",
        "the average age is 38.85 and the maximum age is 70, min 18\r\n",
        "the annual income has a mean of 60.56, min of 15 and max 137\r\n",
        "\r\n",
        "\r\n"
      ]
    },
    {
      "cell_type": "code",
      "metadata": {
        "colab": {
          "base_uri": "https://localhost:8080/",
          "height": 300
        },
        "id": "QmBdzDzdybxq",
        "outputId": "0e5233cb-145b-4db1-8094-43ae60ce6d1c"
      },
      "source": [
        "customer.describe()"
      ],
      "execution_count": 3,
      "outputs": [
        {
          "output_type": "execute_result",
          "data": {
            "text/html": [
              "<div>\n",
              "<style scoped>\n",
              "    .dataframe tbody tr th:only-of-type {\n",
              "        vertical-align: middle;\n",
              "    }\n",
              "\n",
              "    .dataframe tbody tr th {\n",
              "        vertical-align: top;\n",
              "    }\n",
              "\n",
              "    .dataframe thead th {\n",
              "        text-align: right;\n",
              "    }\n",
              "</style>\n",
              "<table border=\"1\" class=\"dataframe\">\n",
              "  <thead>\n",
              "    <tr style=\"text-align: right;\">\n",
              "      <th></th>\n",
              "      <th>CustomerID</th>\n",
              "      <th>Age</th>\n",
              "      <th>Annual Income</th>\n",
              "      <th>Spending Score</th>\n",
              "    </tr>\n",
              "  </thead>\n",
              "  <tbody>\n",
              "    <tr>\n",
              "      <th>count</th>\n",
              "      <td>200.000000</td>\n",
              "      <td>200.000000</td>\n",
              "      <td>200.000000</td>\n",
              "      <td>200.000000</td>\n",
              "    </tr>\n",
              "    <tr>\n",
              "      <th>mean</th>\n",
              "      <td>100.500000</td>\n",
              "      <td>38.850000</td>\n",
              "      <td>60.560000</td>\n",
              "      <td>50.200000</td>\n",
              "    </tr>\n",
              "    <tr>\n",
              "      <th>std</th>\n",
              "      <td>57.879185</td>\n",
              "      <td>13.969007</td>\n",
              "      <td>26.264721</td>\n",
              "      <td>25.823522</td>\n",
              "    </tr>\n",
              "    <tr>\n",
              "      <th>min</th>\n",
              "      <td>1.000000</td>\n",
              "      <td>18.000000</td>\n",
              "      <td>15.000000</td>\n",
              "      <td>1.000000</td>\n",
              "    </tr>\n",
              "    <tr>\n",
              "      <th>25%</th>\n",
              "      <td>50.750000</td>\n",
              "      <td>28.750000</td>\n",
              "      <td>41.500000</td>\n",
              "      <td>34.750000</td>\n",
              "    </tr>\n",
              "    <tr>\n",
              "      <th>50%</th>\n",
              "      <td>100.500000</td>\n",
              "      <td>36.000000</td>\n",
              "      <td>61.500000</td>\n",
              "      <td>50.000000</td>\n",
              "    </tr>\n",
              "    <tr>\n",
              "      <th>75%</th>\n",
              "      <td>150.250000</td>\n",
              "      <td>49.000000</td>\n",
              "      <td>78.000000</td>\n",
              "      <td>73.000000</td>\n",
              "    </tr>\n",
              "    <tr>\n",
              "      <th>max</th>\n",
              "      <td>200.000000</td>\n",
              "      <td>70.000000</td>\n",
              "      <td>137.000000</td>\n",
              "      <td>99.000000</td>\n",
              "    </tr>\n",
              "  </tbody>\n",
              "</table>\n",
              "</div>"
            ],
            "text/plain": [
              "       CustomerID         Age  Annual Income  Spending Score\n",
              "count  200.000000  200.000000     200.000000      200.000000\n",
              "mean   100.500000   38.850000      60.560000       50.200000\n",
              "std     57.879185   13.969007      26.264721       25.823522\n",
              "min      1.000000   18.000000      15.000000        1.000000\n",
              "25%     50.750000   28.750000      41.500000       34.750000\n",
              "50%    100.500000   36.000000      61.500000       50.000000\n",
              "75%    150.250000   49.000000      78.000000       73.000000\n",
              "max    200.000000   70.000000     137.000000       99.000000"
            ]
          },
          "metadata": {
            "tags": []
          },
          "execution_count": 3
        }
      ]
    },
    {
      "cell_type": "markdown",
      "metadata": {
        "id": "HMQC4_hj3wKg"
      },
      "source": [
        "count plot/pie chart\r\n"
      ]
    },
    {
      "cell_type": "code",
      "metadata": {
        "colab": {
          "base_uri": "https://localhost:8080/",
          "height": 313
        },
        "id": "tlLZ_IN233zH",
        "outputId": "06b46f5c-8828-4977-e272-950aeeb9d23e"
      },
      "source": [
        "import matplotlib.pyplot as plt\r\n",
        "import seaborn as sbn\r\n",
        "sbn.countplot(x= 'Gender', data=customer)#check for gender distribution using countplot work for categoriacal variables\r\n",
        "plt.title(\"Distribution of gender\")#title\r\n",
        "\r\n"
      ],
      "execution_count": 18,
      "outputs": [
        {
          "output_type": "execute_result",
          "data": {
            "text/plain": [
              "Text(0, 0.5, 'Freq')"
            ]
          },
          "metadata": {
            "tags": []
          },
          "execution_count": 18
        },
        {
          "output_type": "display_data",
          "data": {
            "image/png": "[encoded data removed]",
            "text/plain": [
              "<Figure size 432x288 with 1 Axes>"
            ]
          },
          "metadata": {
            "tags": [],
            "needs_background": "light"
          }
        }
      ]
    },
    {
      "cell_type": "code",
      "metadata": {
        "colab": {
          "base_uri": "https://localhost:8080/",
          "height": 313
        },
        "id": "ROmBRwo86oVr",
        "outputId": "ce082f4c-24c1-4e6f-d287-e9bb4c5c2504"
      },
      "source": [
        "#add histogram-works for numeric vairable\r\n",
        "#for age\r\n",
        "customer.hist(\"Age\")\r\n",
        "plt.title(\"Age distribution\")\r\n",
        "plt.xlabel('Age')\r\n",
        "plt.ylabel('Freq')\r\n"
      ],
      "execution_count": 22,
      "outputs": [
        {
          "output_type": "execute_result",
          "data": {
            "text/plain": [
              "Text(0, 0.5, 'Freq')"
            ]
          },
          "metadata": {
            "tags": []
          },
          "execution_count": 22
        },
        {
          "output_type": "display_data",
          "data": {
            "image/png": "[encoded data removed]",
            "text/plain": [
              "<Figure size 432x288 with 1 Axes>"
            ]
          },
          "metadata": {
            "tags": [],
            "needs_background": "light"
          }
        }
      ]
    },
    {
      "cell_type": "code",
      "metadata": {
        "colab": {
          "base_uri": "https://localhost:8080/",
          "height": 313
        },
        "id": "TSTxomPX8Esq",
        "outputId": "1e4aa0ed-5650-4cbc-f0c4-4976cd16cdf8"
      },
      "source": [
        "#for annual income\r\n",
        "customer.hist(\"Annual Income\")\r\n",
        "plt.title(\"Annual distribution\")\r\n",
        "plt.xlabel('Annual Income')\r\n",
        "plt.ylabel('Freq')\r\n"
      ],
      "execution_count": 25,
      "outputs": [
        {
          "output_type": "execute_result",
          "data": {
            "text/plain": [
              "Text(0, 0.5, 'Freq')"
            ]
          },
          "metadata": {
            "tags": []
          },
          "execution_count": 25
        },
        {
          "output_type": "display_data",
          "data": {
            "image/png": "[encoded data removed]",
            "text/plain": [
              "<Figure size 432x288 with 1 Axes>"
            ]
          },
          "metadata": {
            "tags": [],
            "needs_background": "light"
          }
        }
      ]
    },
    {
      "cell_type": "code",
      "metadata": {
        "colab": {
          "base_uri": "https://localhost:8080/",
          "height": 320
        },
        "id": "sZOKAKrm_1uD",
        "outputId": "f7f29976-1042-4d34-c11f-5d32968a2edb"
      },
      "source": [
        "plt.hist('Age', data=customer[customer['Gender']=='Male'])#specific histogram for Age for gender Male\r\n"
      ],
      "execution_count": 31,
      "outputs": [
        {
          "output_type": "execute_result",
          "data": {
            "text/plain": [
              "(array([14., 11., 11., 11.,  9.,  9.,  5.,  6.,  3.,  9.]),\n",
              " array([18. , 23.2, 28.4, 33.6, 38.8, 44. , 49.2, 54.4, 59.6, 64.8, 70. ]),\n",
              " <a list of 10 Patch objects>)"
            ]
          },
          "metadata": {
            "tags": []
          },
          "execution_count": 31
        },
        {
          "output_type": "display_data",
          "data": {
            "image/png": "[encoded data removed]",
            "text/plain": [
              "<Figure size 432x288 with 1 Axes>"
            ]
          },
          "metadata": {
            "tags": [],
            "needs_background": "light"
          }
        }
      ]
    },
    {
      "cell_type": "code",
      "metadata": {
        "colab": {
          "base_uri": "https://localhost:8080/",
          "height": 320
        },
        "id": "CzdCnTDrBHJk",
        "outputId": "7d2f9dea-3e7a-41b3-ddee-c466cdf77509"
      },
      "source": [
        "plt.hist('Age', data=customer[customer['Gender']=='Female'])#specific histogram for Age for gender Female"
      ],
      "execution_count": 30,
      "outputs": [
        {
          "output_type": "execute_result",
          "data": {
            "text/plain": [
              "(array([11., 13., 23., 15., 10., 12., 13.,  6.,  3.,  6.]),\n",
              " array([18., 23., 28., 33., 38., 43., 48., 53., 58., 63., 68.]),\n",
              " <a list of 10 Patch objects>)"
            ]
          },
          "metadata": {
            "tags": []
          },
          "execution_count": 30
        },
        {
          "output_type": "display_data",
          "data": {
            "image/png": "[encoded data removed]",
            "text/plain": [
              "<Figure size 432x288 with 1 Axes>"
            ]
          },
          "metadata": {
            "tags": [],
            "needs_background": "light"
          }
        }
      ]
    },
    {
      "cell_type": "code",
      "metadata": {
        "colab": {
          "base_uri": "https://localhost:8080/",
          "height": 313
        },
        "id": "VjKIGJ-lD-ny",
        "outputId": "1f59d83c-122f-43d7-b626-3f0794a5642f"
      },
      "source": [
        "plt.hist('Age', data=customer[customer['Gender']=='Male'], alpha=0.5, label='Male')#specific histogram for Age for gender Male\r\n",
        "plt.hist('Age', data=customer[customer['Gender']=='Female'],alpha=0.5, label='Female')#specific histogram for Age for gender Female\r\n",
        "plt.title('Overlayed histogram distribution by Age by Gender')\r\n",
        "plt.xlabel('Age')\r\n",
        "plt.legend()#to show the labels\r\n",
        "#use alpha to differentiate/faint the color\r\n",
        "#overlayed histogram\r\n",
        "#From the diagram there are more younger women of middle age than men, \r\n"
      ],
      "execution_count": 44,
      "outputs": [
        {
          "output_type": "execute_result",
          "data": {
            "text/plain": [
              "<matplotlib.legend.Legend at 0x7f9fdb703cc0>"
            ]
          },
          "metadata": {
            "tags": []
          },
          "execution_count": 44
        },
        {
          "output_type": "display_data",
          "data": {
            "image/png": "[encoded data removed]",
            "text/plain": [
              "<Figure size 432x288 with 1 Axes>"
            ]
          },
          "metadata": {
            "tags": [],
            "needs_background": "light"
          }
        }
      ]
    },
    {
      "cell_type": "code",
      "metadata": {
        "colab": {
          "base_uri": "https://localhost:8080/",
          "height": 313
        },
        "id": "0W8QphwlHiA7",
        "outputId": "cec9b0f9-71cb-493e-e76c-f40df3cd34ec"
      },
      "source": [
        "plt.hist('Annual Income', data=customer[customer['Gender']=='Male'], alpha=0.5, label='Male')#specific histogram for income for gender Male\r\n",
        "plt.hist('Annual Income', data=customer[customer['Gender']=='Female'],alpha=0.5, label='Female')#specific histogram for income for gender Female\r\n",
        "plt.title('Overlayed histogram distribution by Annual Income by Gender')\r\n",
        "plt.xlabel('Annual Income')\r\n",
        "plt.legend()#to show the labels"
      ],
      "execution_count": 45,
      "outputs": [
        {
          "output_type": "execute_result",
          "data": {
            "text/plain": [
              "<matplotlib.legend.Legend at 0x7f9fdb6070b8>"
            ]
          },
          "metadata": {
            "tags": []
          },
          "execution_count": 45
        },
        {
          "output_type": "display_data",
          "data": {
            "image/png": "[encoded data removed]",
            "text/plain": [
              "<Figure size 432x288 with 1 Axes>"
            ]
          },
          "metadata": {
            "tags": [],
            "needs_background": "light"
          }
        }
      ]
    },
    {
      "cell_type": "code",
      "metadata": {
        "colab": {
          "base_uri": "https://localhost:8080/",
          "height": 354
        },
        "id": "NlNTndghIfmS",
        "outputId": "a1a2bd15-c24a-4fef-d625-4e764893a9e5"
      },
      "source": [
        "import matplotlib.pyplot as plt\r\n",
        "import seaborn as sbn\r\n",
        "sbn.scatterplot('Age', 'Annual Income', data=customer)#using a scatter plot"
      ],
      "execution_count": 49,
      "outputs": [
        {
          "output_type": "stream",
          "text": [
            "/usr/local/lib/python3.6/dist-packages/seaborn/_decorators.py:43: FutureWarning: Pass the following variables as keyword args: x, y. From version 0.12, the only valid positional argument will be `data`, and passing other arguments without an explicit keyword will result in an error or misinterpretation.\n",
            "  FutureWarning\n"
          ],
          "name": "stderr"
        },
        {
          "output_type": "execute_result",
          "data": {
            "text/plain": [
              "<matplotlib.axes._subplots.AxesSubplot at 0x7f9fdb70a7f0>"
            ]
          },
          "metadata": {
            "tags": []
          },
          "execution_count": 49
        },
        {
          "output_type": "display_data",
          "data": {
            "image/png": "[encoded data removed]",
            "text/plain": [
              "<Figure size 432x288 with 1 Axes>"
            ]
          },
          "metadata": {
            "tags": [],
            "needs_background": "light"
          }
        }
      ]
    },
    {
      "cell_type": "code",
      "metadata": {
        "colab": {
          "base_uri": "https://localhost:8080/",
          "height": 354
        },
        "id": "FoIVm822Jj-3",
        "outputId": "710a5827-d524-4f8c-cbb6-6cb24bd7296c"
      },
      "source": [
        "sbn.scatterplot('Age', 'Annual Income', hue='Gender', data=customer)#using a scatter plot and hue to be gender specific"
      ],
      "execution_count": 53,
      "outputs": [
        {
          "output_type": "stream",
          "text": [
            "/usr/local/lib/python3.6/dist-packages/seaborn/_decorators.py:43: FutureWarning: Pass the following variables as keyword args: x, y. From version 0.12, the only valid positional argument will be `data`, and passing other arguments without an explicit keyword will result in an error or misinterpretation.\n",
            "  FutureWarning\n"
          ],
          "name": "stderr"
        },
        {
          "output_type": "execute_result",
          "data": {
            "text/plain": [
              "<matplotlib.axes._subplots.AxesSubplot at 0x7f9fdb51e4e0>"
            ]
          },
          "metadata": {
            "tags": []
          },
          "execution_count": 53
        },
        {
          "output_type": "display_data",
          "data": {
            "image/png": "[encoded data removed]",
            "text/plain": [
              "<Figure size 432x288 with 1 Axes>"
            ]
          },
          "metadata": {
            "tags": [],
            "needs_background": "light"
          }
        }
      ]
    },
    {
      "cell_type": "code",
      "metadata": {
        "id": "SDE7iss4Hs6D"
      },
      "source": [
        ""
      ],
      "execution_count": null,
      "outputs": []
    }
  ]
}